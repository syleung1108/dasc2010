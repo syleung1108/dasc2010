{
 "cells": [
  {
   "cell_type": "code",
   "execution_count": 1,
   "id": "58c03032",
   "metadata": {},
   "outputs": [],
   "source": [
    "import numpy as np\n",
    "import sympy as smp\n",
    "import matplotlib.pyplot as plt\n",
    "from scipy.integrate import *"
   ]
  },
  {
   "cell_type": "code",
   "execution_count": 3,
   "id": "1f7d1a5f",
   "metadata": {},
   "outputs": [],
   "source": [
    "x, y = smp.symbols('x y')"
   ]
  },
  {
   "cell_type": "code",
   "execution_count": 4,
   "id": "9a91cf13",
   "metadata": {},
   "outputs": [
    {
     "data": {
      "text/latex": [
       "$\\displaystyle x^{- y} y^{- x} \\sqrt{x^{y} y^{x} e^{x + y^{2}}} \\left(\\frac{x^{y} y^{x} e^{x + y^{2}} \\log{\\left(y \\right)}}{2} + \\frac{x^{y} y^{x} e^{x + y^{2}}}{2} + \\frac{x^{y} y y^{x} e^{x + y^{2}}}{2 x}\\right) e^{- x - y^{2}}$"
      ],
      "text/plain": [
       "sqrt(x**y*y**x*exp(x + y**2))*(x**y*y**x*exp(x + y**2)*log(y)/2 + x**y*y**x*exp(x + y**2)/2 + x**y*y*y**x*exp(x + y**2)/(2*x))*exp(-x - y**2)/(x**y*y**x)"
      ]
     },
     "execution_count": 4,
     "metadata": {},
     "output_type": "execute_result"
    }
   ],
   "source": [
    "f = smp.sqrt(smp.exp(x+y**2)*(x**y)*(y**x))\n",
    "smp.diff(f,x)"
   ]
  },
  {
   "cell_type": "code",
   "execution_count": 5,
   "id": "8640f710",
   "metadata": {},
   "outputs": [
    {
     "data": {
      "text/latex": [
       "$\\displaystyle \\frac{\\sqrt{x^{y} y^{x} e^{x + y^{2}}} \\left(x \\log{\\left(y \\right)} + x + y\\right)}{2 x}$"
      ],
      "text/plain": [
       "sqrt(x**y*y**x*exp(x + y**2))*(x*log(y) + x + y)/(2*x)"
      ]
     },
     "execution_count": 5,
     "metadata": {},
     "output_type": "execute_result"
    }
   ],
   "source": [
    "smp.diff(f,x).simplify()"
   ]
  },
  {
   "cell_type": "code",
   "execution_count": 6,
   "id": "9cae9915",
   "metadata": {},
   "outputs": [
    {
     "data": {
      "text/latex": [
       "$\\displaystyle x^{- y} y^{- x} \\sqrt{x^{y} y^{x} e^{x + y^{2}}} \\left(\\frac{x x^{y} y^{x} e^{x + y^{2}}}{2 y} + x^{y} y y^{x} e^{x + y^{2}} + \\frac{x^{y} y^{x} e^{x + y^{2}} \\log{\\left(x \\right)}}{2}\\right) e^{- x - y^{2}}$"
      ],
      "text/plain": [
       "sqrt(x**y*y**x*exp(x + y**2))*(x*x**y*y**x*exp(x + y**2)/(2*y) + x**y*y*y**x*exp(x + y**2) + x**y*y**x*exp(x + y**2)*log(x)/2)*exp(-x - y**2)/(x**y*y**x)"
      ]
     },
     "execution_count": 6,
     "metadata": {},
     "output_type": "execute_result"
    }
   ],
   "source": [
    "smp.diff(f,y)"
   ]
  },
  {
   "cell_type": "code",
   "execution_count": 7,
   "id": "d9ca9f10",
   "metadata": {},
   "outputs": [
    {
     "data": {
      "text/latex": [
       "$\\displaystyle \\sqrt{x^{y} y^{x} e^{x + y^{2}}} \\left(- \\frac{x \\left(\\log{\\left(y \\right)} + 1 + \\frac{y}{x}\\right)^{2} e^{- 2 x - 2 y^{2}} e^{2 x + 2 y^{2}}}{2 y} + \\frac{x \\left(\\log{\\left(y \\right)} + 1 + \\frac{y}{x}\\right) \\log{\\left(y \\right)}}{2 y} + \\frac{x \\left(\\log{\\left(y \\right)} + 1 + \\frac{y}{x}\\right)}{2 y} - \\frac{x \\left(\\log{\\left(y \\right)}^{2} + 2 \\log{\\left(y \\right)} + 1 + \\frac{2 y \\log{\\left(y \\right)}}{x} + \\frac{2 y}{x} + \\frac{y^{2}}{x^{2}} - \\frac{y}{x^{2}}\\right)}{2 y} + \\frac{x \\log{\\left(y \\right)}^{2}}{2 y} + \\frac{x \\log{\\left(y \\right)}}{2 y} - y \\left(\\log{\\left(y \\right)} + 1 + \\frac{y}{x}\\right)^{2} e^{- 2 x - 2 y^{2}} e^{2 x + 2 y^{2}} + y \\left(\\log{\\left(y \\right)} + 1 + \\frac{y}{x}\\right) \\log{\\left(y \\right)} + y \\left(\\log{\\left(y \\right)} + 1 + \\frac{y}{x}\\right) - y \\left(\\log{\\left(y \\right)}^{2} + 2 \\log{\\left(y \\right)} + 1 + \\frac{2 y \\log{\\left(y \\right)}}{x} + \\frac{2 y}{x} + \\frac{y^{2}}{x^{2}} - \\frac{y}{x^{2}}\\right) + y \\log{\\left(y \\right)}^{2} + y \\log{\\left(y \\right)} + \\frac{\\left(\\frac{x}{y} + 2 y + \\log{\\left(x \\right)}\\right) \\left(\\log{\\left(y \\right)} + 1 + \\frac{y}{x}\\right)^{2} e^{- 2 x - 2 y^{2}} e^{2 x + 2 y^{2}}}{8} - \\frac{\\left(\\frac{x}{y} + 2 y + \\log{\\left(x \\right)}\\right) \\left(\\log{\\left(y \\right)} + 1 + \\frac{y}{x}\\right) \\log{\\left(y \\right)}}{4} - \\frac{\\left(\\frac{x}{y} + 2 y + \\log{\\left(x \\right)}\\right) \\left(\\log{\\left(y \\right)} + 1 + \\frac{y}{x}\\right)}{4} + \\frac{\\left(\\frac{x}{y} + 2 y + \\log{\\left(x \\right)}\\right) \\left(\\log{\\left(y \\right)}^{2} + 2 \\log{\\left(y \\right)} + 1 + \\frac{2 y \\log{\\left(y \\right)}}{x} + \\frac{2 y}{x} + \\frac{y^{2}}{x^{2}} - \\frac{y}{x^{2}}\\right)}{4} - \\frac{\\left(\\log{\\left(y \\right)} + 1 + \\frac{y}{x}\\right)^{2} e^{- 2 x - 2 y^{2}} e^{2 x + 2 y^{2}} \\log{\\left(x \\right)}}{2} + \\frac{\\left(\\log{\\left(y \\right)} + 1 + \\frac{y}{x}\\right) \\left(\\frac{x \\log{\\left(y \\right)}}{y} + \\frac{x}{y} + 2 y \\log{\\left(y \\right)} + 2 y + \\log{\\left(x \\right)} \\log{\\left(y \\right)} + \\log{\\left(x \\right)} + 1 + \\frac{1}{y} + \\frac{2 y^{2}}{x} + \\frac{y \\log{\\left(x \\right)}}{x} + \\frac{1}{x}\\right)}{2} + \\frac{\\left(\\log{\\left(y \\right)} + 1 + \\frac{y}{x}\\right) \\log{\\left(x \\right)} \\log{\\left(y \\right)}}{2} + \\frac{\\left(\\log{\\left(y \\right)} + 1 + \\frac{y}{x}\\right) \\log{\\left(x \\right)}}{2} - \\frac{\\left(\\log{\\left(y \\right)}^{2} + 2 \\log{\\left(y \\right)} + 1 + \\frac{2 y \\log{\\left(y \\right)}}{x} + \\frac{2 y}{x} + \\frac{y^{2}}{x^{2}} - \\frac{y}{x^{2}}\\right) \\log{\\left(x \\right)}}{2} - \\frac{\\left(\\frac{x \\log{\\left(y \\right)}}{y} + \\frac{x}{y} + 2 y \\log{\\left(y \\right)} + 2 y + \\log{\\left(x \\right)} \\log{\\left(y \\right)} + \\log{\\left(x \\right)} + 1 + \\frac{1}{y} + \\frac{2 y^{2}}{x} + \\frac{y \\log{\\left(x \\right)}}{x} + \\frac{1}{x}\\right) \\log{\\left(y \\right)}}{2} + \\frac{\\log{\\left(x \\right)} \\log{\\left(y \\right)}^{2}}{2} + \\frac{\\log{\\left(x \\right)} \\log{\\left(y \\right)}}{2} + \\frac{3 \\log{\\left(y \\right)}}{2} + 1 - \\frac{\\log{\\left(y \\right)} + 1 + \\frac{y}{x}}{2 y} + \\frac{\\log{\\left(y \\right)}}{y} + \\frac{1}{2 y} + \\frac{y^{2} \\left(\\log{\\left(y \\right)} + 1 + \\frac{y}{x}\\right)}{x} + \\frac{2 y^{2} \\log{\\left(y \\right)}}{x} + \\frac{y^{2}}{x} - \\frac{y \\left(\\frac{x}{y} + 2 y + \\log{\\left(x \\right)}\\right) \\left(\\log{\\left(y \\right)} + 1 + \\frac{y}{x}\\right)}{4 x} + \\frac{y \\left(\\log{\\left(y \\right)} + 1 + \\frac{y}{x}\\right) \\log{\\left(x \\right)}}{2 x} - \\frac{y \\left(\\frac{x \\log{\\left(y \\right)}}{y} + \\frac{x}{y} + 2 y \\log{\\left(y \\right)} + 2 y + \\log{\\left(x \\right)} \\log{\\left(y \\right)} + \\log{\\left(x \\right)} + 1 + \\frac{1}{y} + \\frac{2 y^{2}}{x} + \\frac{y \\log{\\left(x \\right)}}{x} + \\frac{1}{x}\\right)}{2 x} + \\frac{y \\log{\\left(x \\right)} \\log{\\left(y \\right)}}{x} + \\frac{y \\log{\\left(x \\right)}}{2 x} + \\frac{y}{x} - \\frac{\\log{\\left(y \\right)} + 1 + \\frac{y}{x}}{2 x} + \\frac{\\log{\\left(y \\right)}}{x} + \\frac{1}{x} + \\frac{y^{3}}{x^{2}} + \\frac{y^{2} \\log{\\left(x \\right)}}{2 x^{2}} - \\frac{y^{2}}{x^{2}} - \\frac{y \\log{\\left(x \\right)}}{2 x^{2}} + \\frac{y}{x^{2}} - \\frac{1}{2 x^{2}}\\right)$"
      ],
      "text/plain": [
       "sqrt(x**y*y**x*exp(x + y**2))*(-x*(log(y) + 1 + y/x)**2*exp(-2*x - 2*y**2)*exp(2*x + 2*y**2)/(2*y) + x*(log(y) + 1 + y/x)*log(y)/(2*y) + x*(log(y) + 1 + y/x)/(2*y) - x*(log(y)**2 + 2*log(y) + 1 + 2*y*log(y)/x + 2*y/x + y**2/x**2 - y/x**2)/(2*y) + x*log(y)**2/(2*y) + x*log(y)/(2*y) - y*(log(y) + 1 + y/x)**2*exp(-2*x - 2*y**2)*exp(2*x + 2*y**2) + y*(log(y) + 1 + y/x)*log(y) + y*(log(y) + 1 + y/x) - y*(log(y)**2 + 2*log(y) + 1 + 2*y*log(y)/x + 2*y/x + y**2/x**2 - y/x**2) + y*log(y)**2 + y*log(y) + (x/y + 2*y + log(x))*(log(y) + 1 + y/x)**2*exp(-2*x - 2*y**2)*exp(2*x + 2*y**2)/8 - (x/y + 2*y + log(x))*(log(y) + 1 + y/x)*log(y)/4 - (x/y + 2*y + log(x))*(log(y) + 1 + y/x)/4 + (x/y + 2*y + log(x))*(log(y)**2 + 2*log(y) + 1 + 2*y*log(y)/x + 2*y/x + y**2/x**2 - y/x**2)/4 - (log(y) + 1 + y/x)**2*exp(-2*x - 2*y**2)*exp(2*x + 2*y**2)*log(x)/2 + (log(y) + 1 + y/x)*(x*log(y)/y + x/y + 2*y*log(y) + 2*y + log(x)*log(y) + log(x) + 1 + 1/y + 2*y**2/x + y*log(x)/x + 1/x)/2 + (log(y) + 1 + y/x)*log(x)*log(y)/2 + (log(y) + 1 + y/x)*log(x)/2 - (log(y)**2 + 2*log(y) + 1 + 2*y*log(y)/x + 2*y/x + y**2/x**2 - y/x**2)*log(x)/2 - (x*log(y)/y + x/y + 2*y*log(y) + 2*y + log(x)*log(y) + log(x) + 1 + 1/y + 2*y**2/x + y*log(x)/x + 1/x)*log(y)/2 + log(x)*log(y)**2/2 + log(x)*log(y)/2 + 3*log(y)/2 + 1 - (log(y) + 1 + y/x)/(2*y) + log(y)/y + 1/(2*y) + y**2*(log(y) + 1 + y/x)/x + 2*y**2*log(y)/x + y**2/x - y*(x/y + 2*y + log(x))*(log(y) + 1 + y/x)/(4*x) + y*(log(y) + 1 + y/x)*log(x)/(2*x) - y*(x*log(y)/y + x/y + 2*y*log(y) + 2*y + log(x)*log(y) + log(x) + 1 + 1/y + 2*y**2/x + y*log(x)/x + 1/x)/(2*x) + y*log(x)*log(y)/x + y*log(x)/(2*x) + y/x - (log(y) + 1 + y/x)/(2*x) + log(y)/x + 1/x + y**3/x**2 + y**2*log(x)/(2*x**2) - y**2/x**2 - y*log(x)/(2*x**2) + y/x**2 - 1/(2*x**2))"
      ]
     },
     "execution_count": 7,
     "metadata": {},
     "output_type": "execute_result"
    }
   ],
   "source": [
    "smp.diff(f,x,x,y)"
   ]
  },
  {
   "cell_type": "code",
   "execution_count": 8,
   "id": "64614f76",
   "metadata": {},
   "outputs": [],
   "source": [
    "t = smp.symbols('t')\n",
    "x, y, z, w, v =smp.symbols('x y z w v', cls=smp.Function)"
   ]
  },
  {
   "cell_type": "code",
   "execution_count": 10,
   "id": "23d9b582",
   "metadata": {},
   "outputs": [],
   "source": [
    "x = x(t)\n",
    "y = y(t)\n",
    "z = z(t)\n",
    "w = w(x, y, z)"
   ]
  },
  {
   "cell_type": "code",
   "execution_count": 11,
   "id": "6d22286d",
   "metadata": {},
   "outputs": [
    {
     "data": {
      "text/latex": [
       "$\\displaystyle \\frac{d}{d x{\\left(t \\right)}} w{\\left(x{\\left(t \\right)},y{\\left(t \\right)},z{\\left(t \\right)} \\right)} \\frac{d}{d t} x{\\left(t \\right)} + \\frac{d}{d y{\\left(t \\right)}} w{\\left(x{\\left(t \\right)},y{\\left(t \\right)},z{\\left(t \\right)} \\right)} \\frac{d}{d t} y{\\left(t \\right)} + \\frac{d}{d z{\\left(t \\right)}} w{\\left(x{\\left(t \\right)},y{\\left(t \\right)},z{\\left(t \\right)} \\right)} \\frac{d}{d t} z{\\left(t \\right)}$"
      ],
      "text/plain": [
       "Derivative(w(x(t), y(t), z(t)), x(t))*Derivative(x(t), t) + Derivative(w(x(t), y(t), z(t)), y(t))*Derivative(y(t), t) + Derivative(w(x(t), y(t), z(t)), z(t))*Derivative(z(t), t)"
      ]
     },
     "execution_count": 11,
     "metadata": {},
     "output_type": "execute_result"
    }
   ],
   "source": [
    "smp.diff(w,t)"
   ]
  },
  {
   "cell_type": "code",
   "execution_count": 13,
   "id": "49ce4346",
   "metadata": {},
   "outputs": [
    {
     "data": {
      "text/latex": [
       "$\\displaystyle 2 t e^{\\cos{\\left(t \\right)}} \\cos{\\left(t^{2} \\right)} - e^{\\cos{\\left(t \\right)}} \\sin{\\left(t \\right)} \\sin{\\left(t^{2} \\right)} + 2 \\sin{\\left(t \\right)} \\cos{\\left(t \\right)}$"
      ],
      "text/plain": [
       "2*t*exp(cos(t))*cos(t**2) - exp(cos(t))*sin(t)*sin(t**2) + 2*sin(t)*cos(t)"
      ]
     },
     "execution_count": 13,
     "metadata": {},
     "output_type": "execute_result"
    }
   ],
   "source": [
    "w1 = x**2+smp.exp(y)*smp.sin(z)\n",
    "smp.diff(w1,t).subs([(x,smp.sin(t)),(y,smp.cos(t)),(z,t**2)]).doit()"
   ]
  },
  {
   "cell_type": "code",
   "execution_count": 14,
   "id": "3151ddad",
   "metadata": {},
   "outputs": [
    {
     "data": {
      "text/latex": [
       "$\\displaystyle (\\sin{\\left(\\mathbf{{y}_{}} \\right)})\\mathbf{\\hat{i}_{}} + (\\mathbf{{x}_{}} \\cos{\\left(\\mathbf{{y}_{}} \\right)})\\mathbf{\\hat{j}_{}}$"
      ],
      "text/plain": [
       "(sin(.y))*.i + (.x*cos(.y))*.j"
      ]
     },
     "execution_count": 14,
     "metadata": {},
     "output_type": "execute_result"
    }
   ],
   "source": [
    "from sympy.vector import *\n",
    "C = CoordSys3D('')\n",
    "f = C.x*smp.sin(C.y)\n",
    "gradient(f)"
   ]
  },
  {
   "cell_type": "code",
   "execution_count": 15,
   "id": "578cefdf",
   "metadata": {},
   "outputs": [
    {
     "data": {
      "text/latex": [
       "$\\displaystyle (\\sin{\\left(1 \\right)})\\mathbf{\\hat{i}_{}} + (5 \\cos{\\left(1 \\right)})\\mathbf{\\hat{j}_{}}$"
      ],
      "text/plain": [
       "(sin(1))*.i + (5*cos(1))*.j"
      ]
     },
     "execution_count": 15,
     "metadata": {},
     "output_type": "execute_result"
    }
   ],
   "source": [
    "gradient(f).subs([(C.x, 5),(C.y, 1)])"
   ]
  },
  {
   "cell_type": "code",
   "execution_count": 16,
   "id": "80331d05",
   "metadata": {},
   "outputs": [
    {
     "data": {
      "text/latex": [
       "$\\displaystyle - \\frac{3 \\sqrt{29} \\mathbf{{x}_{}} \\cos{\\left(\\mathbf{{y}_{}} \\right)}}{29} + \\frac{4 \\sqrt{29} \\sin{\\left(\\mathbf{{y}_{}} \\right)}}{29}$"
      ],
      "text/plain": [
       "-3*sqrt(29)*.x*cos(.y)/29 + 4*sqrt(29)*sin(.y)/29"
      ]
     },
     "execution_count": 16,
     "metadata": {},
     "output_type": "execute_result"
    }
   ],
   "source": [
    "u = 4*C.i - 3*C.j + 2*C.k\n",
    "u = u.normalize() # Make into unit vector\n",
    "gradient(f).dot(u)"
   ]
  },
  {
   "cell_type": "code",
   "execution_count": null,
   "id": "05accf3c",
   "metadata": {},
   "outputs": [],
   "source": []
  }
 ],
 "metadata": {
  "kernelspec": {
   "display_name": "Python 3 (ipykernel)",
   "language": "python",
   "name": "python3"
  },
  "language_info": {
   "codemirror_mode": {
    "name": "ipython",
    "version": 3
   },
   "file_extension": ".py",
   "mimetype": "text/x-python",
   "name": "python",
   "nbconvert_exporter": "python",
   "pygments_lexer": "ipython3",
   "version": "3.8.2"
  }
 },
 "nbformat": 4,
 "nbformat_minor": 5
}
