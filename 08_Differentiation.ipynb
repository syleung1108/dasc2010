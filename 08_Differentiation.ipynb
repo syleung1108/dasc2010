{
 "cells": [
  {
   "cell_type": "code",
   "execution_count": null,
   "id": "58c03032",
   "metadata": {},
   "outputs": [],
   "source": [
    "import numpy as np\n",
    "import sympy as smp\n",
    "import matplotlib.pyplot as plt\n",
    "from scipy.integrate import *"
   ]
  },
  {
   "cell_type": "code",
   "execution_count": null,
   "id": "1f7d1a5f",
   "metadata": {},
   "outputs": [],
   "source": [
    "x, y = smp.symbols('x y')"
   ]
  },
  {
   "cell_type": "code",
   "execution_count": null,
   "id": "9a91cf13",
   "metadata": {},
   "outputs": [],
   "source": [
    "f = smp.sqrt(smp.exp(x+y**2)*(x**y)*(y**x))\n",
    "smp.diff(f,x)"
   ]
  },
  {
   "cell_type": "code",
   "execution_count": null,
   "id": "8640f710",
   "metadata": {},
   "outputs": [],
   "source": [
    "smp.diff(f,x).simplify()"
   ]
  },
  {
   "cell_type": "code",
   "execution_count": null,
   "id": "9cae9915",
   "metadata": {},
   "outputs": [],
   "source": [
    "smp.diff(f,y)"
   ]
  },
  {
   "cell_type": "code",
   "execution_count": null,
   "id": "d9ca9f10",
   "metadata": {},
   "outputs": [],
   "source": [
    "smp.diff(f,x,x,y)"
   ]
  },
  {
   "cell_type": "code",
   "execution_count": null,
   "id": "64614f76",
   "metadata": {},
   "outputs": [],
   "source": [
    "t = smp.symbols('t')\n",
    "x, y, z, w, v =smp.symbols('x y z w v', cls=smp.Function)"
   ]
  },
  {
   "cell_type": "code",
   "execution_count": null,
   "id": "23d9b582",
   "metadata": {},
   "outputs": [],
   "source": [
    "x = x(t)\n",
    "y = y(t)\n",
    "z = z(t)\n",
    "w = w(x, y, z)"
   ]
  },
  {
   "cell_type": "code",
   "execution_count": null,
   "id": "6d22286d",
   "metadata": {},
   "outputs": [],
   "source": [
    "smp.diff(w,t)"
   ]
  },
  {
   "cell_type": "code",
   "execution_count": null,
   "id": "49ce4346",
   "metadata": {},
   "outputs": [],
   "source": [
    "w1 = x**2+smp.exp(y)*smp.sin(z)\n",
    "smp.diff(w1,t).subs([(x,smp.sin(t)),(y,smp.cos(t)),(z,t**2)]).doit()"
   ]
  },
  {
   "cell_type": "code",
   "execution_count": null,
   "id": "acaa84a3",
   "metadata": {},
   "outputs": [],
   "source": [
    "import numpy as np\n",
    "import plotly.graph_objects as go\n",
    "X, Y, Z = np.mgrid[-3:3:50j, -3:3:50j, -1:5:50j]\n",
    "\n",
    "Paraboloid = Z-(X**2+Y**2)\n",
    "\n",
    "a,b,c=1,np.sqrt(2),3\n",
    "\n",
    "Plane = X-1\n",
    "\n",
    "trace1 = go.Isosurface(\n",
    "       x=X.flatten(),\n",
    "       y=Y.flatten(),\n",
    "       z=Z.flatten(),\n",
    "       value=Paraboloid.flatten(),\n",
    "#       opacity=0.75,\n",
    "       colorscale='Reds',\n",
    "       isomin=0,\n",
    "       isomax=0,\n",
    "       surface_count=1,\n",
    "       showscale=False, # remove colorbar\n",
    "       caps=dict(x_show=False, y_show=False)\n",
    "       )\n",
    "\n",
    "trace2 = go.Scatter3d(x=[a], y=[b], z=[c], \n",
    "        mode='markers',marker=dict(\n",
    "        size=12,\n",
    "        color='rgb(136, 68, 226)'))\n",
    "\n",
    "trace3 = go.Isosurface(\n",
    "       x=X.flatten(),\n",
    "       y=Y.flatten(),\n",
    "       z=Z.flatten(),\n",
    "       value=Plane.flatten(),\n",
    "#       opacity=0.75,\n",
    "       colorscale='Blues',\n",
    "       isomin=0,\n",
    "       isomax=0,\n",
    "       surface_count=1,\n",
    "       showscale=False, # remove colorbar\n",
    "       caps=dict(x_show=False, y_show=False)\n",
    "       )\n",
    "\n",
    "fig = go.Figure(trace1)\n",
    "fig.add_trace(trace2)\n",
    "fig.add_trace(trace3)"
   ]
  },
  {
   "cell_type": "code",
   "execution_count": null,
   "id": "f9e7b5f8",
   "metadata": {},
   "outputs": [],
   "source": [
    "import numpy as np\n",
    "import matplotlib.pyplot as plt\n",
    "\n",
    "t = np.arange(-3,3,0.1)\n",
    "\n",
    "plt.plot(t, t**2+1, 'r', t, 2*np.sqrt(2)*t-1, 'b--', np.sqrt(2), 3, 'ko')\n",
    "plt.gca().set_aspect('equal', adjustable='box')\n",
    "plt.gca().set(xlim=(-3, 3), ylim=(-1, 5))\n",
    "plt.show()"
   ]
  },
  {
   "cell_type": "code",
   "execution_count": null,
   "id": "3151ddad",
   "metadata": {},
   "outputs": [],
   "source": [
    "from sympy.vector import *\n",
    "C = CoordSys3D('')\n",
    "f = C.x*smp.sin(C.y)\n",
    "gradient(f)"
   ]
  },
  {
   "cell_type": "code",
   "execution_count": null,
   "id": "578cefdf",
   "metadata": {},
   "outputs": [],
   "source": [
    "gradient(f).subs([(C.x, 5),(C.y, 1)])"
   ]
  },
  {
   "cell_type": "code",
   "execution_count": null,
   "id": "80331d05",
   "metadata": {},
   "outputs": [],
   "source": [
    "u = 4*C.i - 3*C.j + 2*C.k\n",
    "u = u.normalize() # Make into unit vector\n",
    "gradient(f).dot(u)"
   ]
  },
  {
   "cell_type": "code",
   "execution_count": null,
   "id": "05accf3c",
   "metadata": {
    "scrolled": true
   },
   "outputs": [],
   "source": [
    "import numpy as np\n",
    "import plotly.graph_objects as go\n",
    "X, Y, Z = np.mgrid[-1.5:1.5:50j, -1.5:1.5:50j, -1.5:1.5:50j]\n",
    "\n",
    "Sphere = X**2+Y**2+Z**2 - 1\n",
    "\n",
    "a=1/np.sqrt(3)\n",
    "b=a\n",
    "c=a\n",
    "TangentPlane = a*X+b*Y+c*Z - 1\n",
    "\n",
    "trace1 = go.Isosurface(\n",
    "       x=X.flatten(),\n",
    "       y=Y.flatten(),\n",
    "       z=Z.flatten(),\n",
    "       value=Sphere.flatten(),\n",
    "       opacity=0.75,\n",
    "       colorscale='Reds',\n",
    "       isomin=0,\n",
    "       isomax=0,\n",
    "       surface_count=1,\n",
    "       showscale=False, # remove colorbar\n",
    "       caps=dict(x_show=False, y_show=False)\n",
    "       )\n",
    "\n",
    "trace2 = go.Scatter3d(x=[a], y=[b], z=[c], \n",
    "        mode='markers')\n",
    "\n",
    "trace3 = go.Isosurface(\n",
    "       x=X.flatten(),\n",
    "       y=Y.flatten(),\n",
    "       z=Z.flatten(),\n",
    "       value=TangentPlane.flatten(),\n",
    "       opacity=0.75,\n",
    "       colorscale='Blues',\n",
    "       isomin=0,\n",
    "       isomax=0,\n",
    "       surface_count=1,\n",
    "       showscale=False, # remove colorbar\n",
    "       caps=dict(x_show=False, y_show=False)\n",
    "       )\n",
    "\n",
    "fig = go.Figure(trace1)\n",
    "fig.add_trace(trace2)\n",
    "fig.add_trace(trace3)"
   ]
  },
  {
   "cell_type": "code",
   "execution_count": null,
   "id": "819da88c",
   "metadata": {},
   "outputs": [],
   "source": [
    "import numpy as np\n",
    "import plotly.graph_objects as go\n",
    "X, Y, Z = np.mgrid[-1.5:1.5:50j, -1.5:1.5:50j, 0:3:50j]\n",
    "\n",
    "Surface = X**2+Y**2-Z\n",
    "\n",
    "a=1/np.sqrt(3)\n",
    "b=a\n",
    "c=a**2+b**2\n",
    "TangentPlane = 2*a*X+2*b*Y-Z - a**2 - b**2 \n",
    "\n",
    "trace1 = go.Isosurface(\n",
    "       x=X.flatten(),\n",
    "       y=Y.flatten(),\n",
    "       z=Z.flatten(),\n",
    "       value=Surface.flatten(),\n",
    "       opacity=0.75,\n",
    "       colorscale='Reds',\n",
    "       isomin=0,\n",
    "       isomax=0,\n",
    "       surface_count=1,\n",
    "       showscale=False, # remove colorbar\n",
    "       caps=dict(x_show=False, y_show=False)\n",
    "       )\n",
    "\n",
    "trace2 = go.Scatter3d(x=[a], y=[b], z=[c], \n",
    "        mode='markers')\n",
    "\n",
    "trace3 = go.Isosurface(\n",
    "       x=X.flatten(),\n",
    "       y=Y.flatten(),\n",
    "       z=Z.flatten(),\n",
    "       value=TangentPlane.flatten(),\n",
    "       opacity=0.75,\n",
    "       colorscale='Blues',\n",
    "       isomin=0,\n",
    "       isomax=0,\n",
    "       surface_count=1,\n",
    "       showscale=False, # remove colorbar\n",
    "       caps=dict(x_show=False, y_show=False)\n",
    "       )\n",
    "\n",
    "fig = go.Figure(trace1)\n",
    "fig.add_trace(trace2)\n",
    "fig.add_trace(trace3)"
   ]
  },
  {
   "cell_type": "code",
   "execution_count": null,
   "id": "fa0c95ce",
   "metadata": {},
   "outputs": [],
   "source": []
  }
 ],
 "metadata": {
  "kernelspec": {
   "display_name": "Python 3 (ipykernel)",
   "language": "python",
   "name": "python3"
  },
  "language_info": {
   "codemirror_mode": {
    "name": "ipython",
    "version": 3
   },
   "file_extension": ".py",
   "mimetype": "text/x-python",
   "name": "python",
   "nbconvert_exporter": "python",
   "pygments_lexer": "ipython3",
   "version": "3.10.2"
  }
 },
 "nbformat": 4,
 "nbformat_minor": 5
}
