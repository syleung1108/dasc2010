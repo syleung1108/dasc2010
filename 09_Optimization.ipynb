{
 "cells": [
  {
   "cell_type": "code",
   "execution_count": null,
   "id": "f031960a",
   "metadata": {},
   "outputs": [],
   "source": [
    "import numpy as np\n",
    "import sympy as smp\n",
    "import matplotlib.pyplot as plt\n",
    "from scipy.integrate import *"
   ]
  },
  {
   "cell_type": "code",
   "execution_count": null,
   "id": "7f2fc1f3",
   "metadata": {},
   "outputs": [],
   "source": [
    "x, y = smp.symbols('x y', real=True)\n",
    "f = x**3 + 3*x*y + y**3\n",
    "smp.solve([smp.diff(f,x), smp.diff(f, y)])"
   ]
  },
  {
   "cell_type": "code",
   "execution_count": null,
   "id": "9593718d",
   "metadata": {},
   "outputs": [],
   "source": [
    "fxx = smp.diff(f,x,x)\n",
    "fyy = smp.diff(f,y,y)\n",
    "fxy = smp.diff(f,x,y)"
   ]
  },
  {
   "cell_type": "code",
   "execution_count": null,
   "id": "d0f4d054",
   "metadata": {},
   "outputs": [],
   "source": [
    "fxx.subs([(x,-1),(y,-1)])"
   ]
  },
  {
   "cell_type": "code",
   "execution_count": null,
   "id": "93b6b217",
   "metadata": {},
   "outputs": [],
   "source": [
    "test = fxx*fyy-fxy**2\n",
    "test.subs([(x,-1),(y,-1)])"
   ]
  },
  {
   "cell_type": "code",
   "execution_count": null,
   "id": "716f7a25",
   "metadata": {},
   "outputs": [],
   "source": [
    "import numpy as np\n",
    "import matplotlib.pyplot as plt\n",
    "\n",
    "def cost(x,y):\n",
    "    return x**2 + 5*y**2\n",
    "\n",
    "def gradient_cost(x):\n",
    "    return np.array([2*x[0], 10*x[1]])\n",
    "\n",
    "def GradientDescent2D(x, grad, alpha, max_iter=10):\n",
    "    xs = np.zeros((1 + max_iter, x.shape[0]))\n",
    "    xs[0,:] = x\n",
    "    for i in range(max_iter):\n",
    "        x = x - alpha * grad(x)\n",
    "        xs[i+1,:] = x\n",
    "    return xs\n",
    "\n",
    "alpha = 0.15 # learning rate\n",
    "x0 = np.array([-2,-1]) # initial guess\n",
    "xs = GradientDescent2D(x0, gradient_cost, alpha, max_iter=30)\n",
    "\n",
    "x = np.linspace(-2.5, 2.5, 100)\n",
    "X, Y = np.meshgrid(x, x)\n",
    "levels = 20 \n",
    "c = plt.contour(X, Y, cost(X,Y), levels)\n",
    "plt.plot(xs[:, 0], xs[:, 1], 'o-', c='red')\n",
    "plt.title('Gradient Descent')\n",
    "plt.gca().set_aspect('equal', adjustable='box')"
   ]
  },
  {
   "cell_type": "code",
   "execution_count": null,
   "id": "5269d167",
   "metadata": {},
   "outputs": [],
   "source": [
    "alpha = 0.05 # learning rate\n",
    "x0 = np.array([-2,-1]) # initial guess\n",
    "xs = GradientDescent2D(x0, gradient_cost, alpha, max_iter=30)\n",
    "\n",
    "x = np.linspace(-2.5, 2.5, 100)\n",
    "X, Y = np.meshgrid(x, x)\n",
    "levels = 20 \n",
    "c = plt.contour(X, Y, cost(X,Y), levels)\n",
    "plt.plot(xs[:, 0], xs[:, 1], 'o-', c='red')\n",
    "plt.title('Gradient Descent')\n",
    "plt.gca().set_aspect('equal', adjustable='box')"
   ]
  },
  {
   "cell_type": "code",
   "execution_count": null,
   "id": "93a10028",
   "metadata": {},
   "outputs": [],
   "source": [
    "import numpy as np\n",
    "from scipy.integrate import *\n",
    "import matplotlib.pyplot as plt\n",
    "\n",
    "def cost(x,y):\n",
    "    return x**2 + 5*y**2\n",
    "\n",
    "def dx(x,t):\n",
    "    return np.array([-2*x[0], -10*x[1]])\n",
    "\n",
    "x0 = [-2, -1]\n",
    "ts = np.linspace(0, 5, 200)\n",
    "Xs = odeint(dx, x0, ts)\n",
    "xt = Xs[:,0]\n",
    "yt = Xs[:,1]"
   ]
  },
  {
   "cell_type": "code",
   "execution_count": null,
   "id": "3e8c1748",
   "metadata": {},
   "outputs": [],
   "source": [
    "plt.xlabel(\"t\")\n",
    "plt.ylabel(\"x or y\")\n",
    "plt.plot(ts,xt);\n",
    "plt.plot(ts,yt);"
   ]
  },
  {
   "cell_type": "code",
   "execution_count": null,
   "id": "4e2f8797",
   "metadata": {},
   "outputs": [],
   "source": [
    "x = np.linspace(-2.5, 2.5, 100)\n",
    "X, Y = np.meshgrid(x, x)\n",
    "levels = 20 \n",
    "c = plt.contour(X, Y, cost(X,Y), levels)\n",
    "plt.plot(xt, yt, c='red')\n",
    "plt.title('Gradient Descent')\n",
    "plt.gca().set_aspect('equal', adjustable='box')"
   ]
  }
 ],
 "metadata": {
  "kernelspec": {
   "display_name": "Python 3 (ipykernel)",
   "language": "python",
   "name": "python3"
  },
  "language_info": {
   "codemirror_mode": {
    "name": "ipython",
    "version": 3
   },
   "file_extension": ".py",
   "mimetype": "text/x-python",
   "name": "python",
   "nbconvert_exporter": "python",
   "pygments_lexer": "ipython3",
   "version": "3.10.2"
  }
 },
 "nbformat": 4,
 "nbformat_minor": 5
}
