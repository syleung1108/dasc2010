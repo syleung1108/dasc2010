{
 "cells": [
  {
   "cell_type": "code",
   "execution_count": null,
   "id": "8f5cc2eb",
   "metadata": {},
   "outputs": [],
   "source": [
    "import numpy as np\n",
    "import sympy as smp\n",
    "import matplotlib.pyplot as plt\n",
    "from scipy.integrate import *"
   ]
  },
  {
   "cell_type": "code",
   "execution_count": null,
   "id": "98fbbd4d",
   "metadata": {},
   "outputs": [],
   "source": [
    "from scipy.integrate import dblquad\n",
    "\n",
    "dblquad(lambda x, y: 1+x*y, 1, 2, lambda y: 0, lambda y: 1)"
   ]
  },
  {
   "cell_type": "code",
   "execution_count": null,
   "id": "f19f5043",
   "metadata": {},
   "outputs": [],
   "source": [
    "from scipy.integrate import dblquad\n",
    "\n",
    "dblquad(lambda x, y: 1+x*y, 0, 2, lambda y: 0, lambda y: 1-y/2)"
   ]
  },
  {
   "cell_type": "code",
   "execution_count": null,
   "id": "73d8a68d",
   "metadata": {},
   "outputs": [],
   "source": [
    "import numpy as np\n",
    "from scipy.integrate import dblquad\n",
    "\n",
    "dblquad(lambda x, y: (x+y)**2, 0, 1, lambda y: -y, lambda y: np.sqrt(y))"
   ]
  },
  {
   "cell_type": "code",
   "execution_count": null,
   "id": "ff328eb3",
   "metadata": {},
   "outputs": [],
   "source": [
    "import numpy as np\n",
    "from scipy.integrate import *\n",
    "\n",
    "def f(x, y):\n",
    "    return (x+y)**2\n",
    "\n",
    "def bounds_y():\n",
    "    return [0, 1]\n",
    "\n",
    "def bounds_x(y):\n",
    "    return [-y, np.sqrt(y)]\n",
    "\n",
    "nquad(f, [bounds_x, bounds_y])"
   ]
  },
  {
   "cell_type": "code",
   "execution_count": null,
   "id": "97f12cd9",
   "metadata": {},
   "outputs": [],
   "source": [
    "import numpy as np\n",
    "from scipy.integrate import dblquad\n",
    "\n",
    "dblquad(lambda r, theta: np.sqrt(1-r**2)*r, \n",
    "        0, np.pi/2, lambda theta: 0, lambda theta: 1)"
   ]
  },
  {
   "cell_type": "code",
   "execution_count": null,
   "id": "0632b4f9",
   "metadata": {},
   "outputs": [],
   "source": [
    "np.pi/6"
   ]
  },
  {
   "cell_type": "code",
   "execution_count": null,
   "id": "b3b95331",
   "metadata": {},
   "outputs": [],
   "source": [
    "import numpy as np\n",
    "from scipy.integrate import dblquad\n",
    "\n",
    "dblquad(lambda r, theta: r, \n",
    "        -np.pi/2, np.pi/2, lambda theta: 0, lambda theta: np.cos(theta))"
   ]
  },
  {
   "cell_type": "code",
   "execution_count": null,
   "id": "5d20aa8f",
   "metadata": {},
   "outputs": [],
   "source": [
    "np.pi/4"
   ]
  },
  {
   "cell_type": "code",
   "execution_count": null,
   "id": "e2bfc85c",
   "metadata": {},
   "outputs": [],
   "source": [
    "from scipy.integrate import tplquad\n",
    "\n",
    "f = lambda x, y, z: x**3 * y**2 * z\n",
    "\n",
    "tplquad(f, 2, 3, lambda z: 1, lambda z: 2,\n",
    "                  lambda y, z: 0, lambda y, z: 1)"
   ]
  },
  {
   "cell_type": "code",
   "execution_count": null,
   "id": "f2e682ea",
   "metadata": {},
   "outputs": [],
   "source": [
    "import sympy as smp\n",
    "\n",
    "x, y, z = smp.symbols('x, y, z')\n",
    "f = x**3 * y**2 * z # integrant\n",
    "smp.integrate(f, (x, 0, 1), (y, 1, 2), (z, 2, 3))"
   ]
  },
  {
   "cell_type": "code",
   "execution_count": null,
   "id": "1015c484",
   "metadata": {},
   "outputs": [],
   "source": [
    "import sympy as smp\n",
    "\n",
    "a, b, c = smp.symbols('a, b, c')\n",
    "x, y, z = smp.symbols('x, y, z')\n",
    "f = smp.exp(-z) # integrant\n",
    "ans = smp.integrate(f, (z, 0, c*(1-x/a-y/b)), (y, 0, b*(1-x/a)), (x, 0, a))\n",
    "ans.simplify()"
   ]
  }
 ],
 "metadata": {
  "kernelspec": {
   "display_name": "Python 3 (ipykernel)",
   "language": "python",
   "name": "python3"
  },
  "language_info": {
   "codemirror_mode": {
    "name": "ipython",
    "version": 3
   },
   "file_extension": ".py",
   "mimetype": "text/x-python",
   "name": "python",
   "nbconvert_exporter": "python",
   "pygments_lexer": "ipython3",
   "version": "3.10.2"
  }
 },
 "nbformat": 4,
 "nbformat_minor": 5
}
